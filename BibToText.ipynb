{
  "nbformat": 4,
  "nbformat_minor": 0,
  "metadata": {
    "colab": {
      "provenance": [],
      "gpuType": "T4",
      "authorship_tag": "ABX9TyP/xcf7Zm2BlPMSYKrhMkg8",
      "include_colab_link": true
    },
    "kernelspec": {
      "name": "python3",
      "display_name": "Python 3"
    },
    "language_info": {
      "name": "python"
    },
    "accelerator": "GPU"
  },
  "cells": [
    {
      "cell_type": "markdown",
      "metadata": {
        "id": "view-in-github",
        "colab_type": "text"
      },
      "source": [
        "<a href=\"https://colab.research.google.com/github/junkyuhufs/Practice/blob/main/BibToText.ipynb\" target=\"_parent\"><img src=\"https://colab.research.google.com/assets/colab-badge.svg\" alt=\"Open In Colab\"/></a>"
      ]
    },
    {
      "cell_type": "code",
      "execution_count": null,
      "metadata": {
        "id": "zPf4cd7_jgCH"
      },
      "outputs": [],
      "source": [
        "from google.colab import files\n",
        "\n",
        "# 파일 업로드\n",
        "uploaded = files.upload()\n",
        "\n",
        "# 업로드된 파일 읽기\n",
        "for file_name in uploaded.keys():\n",
        "    print(f\"업로드된 파일 이름: {file_name}\")\n",
        "    # 파일 내용 출력\n",
        "    with open(file_name, 'r', encoding='utf-8') as f:\n",
        "        content = f.read()\n",
        "        print(content)\n"
      ]
    },
    {
      "cell_type": "code",
      "source": [
        "!pip install bibtexparser  # bibtexparser 설치\n",
        "\n",
        "from google.colab import files\n",
        "import bibtexparser\n",
        "\n",
        "# 파일 업로드\n",
        "uploaded = files.upload()\n",
        "\n",
        "# 업로드된 파일 처리\n",
        "for file_name in uploaded.keys():\n",
        "    print(f\"TesT500L2.bib: {file_name}\")\n",
        "    with open(file_name, 'r', encoding='utf-8') as f:\n",
        "        bib_database = bibtexparser.load(f)\n",
        "\n",
        "    # 데이터 구조 확인\n",
        "    print(\"\\n== BibTeX 데이터 구조 ==\")\n",
        "    for entry in bib_database.entries:\n",
        "        print(entry)  # 각 엔트리의 상세 데이터 확인\n",
        "        print(\"\\n\")  # 엔트리 구분\n",
        "\n",
        "# 필요시, 특정 필드만 출력\n",
        "print(\"\\n== 예: 모든 'title' 필드 출력 ==\")\n",
        "for entry in bib_database.entries:\n",
        "    if 'title' in entry:\n",
        "        print(f\"Title: {entry['title']}\")\n"
      ],
      "metadata": {
        "id": "l2Cs86djkK3V"
      },
      "execution_count": null,
      "outputs": []
    },
    {
      "cell_type": "code",
      "source": [
        "# 모든 key 값을 저장할 집합\n",
        "all_keys = set()\n",
        "\n",
        "# 업로드된 파일 처리\n",
        "for file_name in uploaded.keys():\n",
        "    with open(file_name, 'r', encoding='utf-8') as f:\n",
        "        bib_database = bibtexparser.load(f)\n",
        "\n",
        "    # 각 엔트리의 key 값 추출\n",
        "    for entry in bib_database.entries:\n",
        "        all_keys.update(entry.keys())  # 모든 key 값을 집합에 추가\n",
        "\n",
        "# 모든 key 값 출력\n",
        "print(\"\\n== BibTeX에서 발견된 key 값들 ==\")\n",
        "for key in sorted(all_keys):  # 정렬된 key 값 출력\n",
        "    print(key)"
      ],
      "metadata": {
        "colab": {
          "base_uri": "https://localhost:8080/"
        },
        "id": "1wulZhbUkyAi",
        "outputId": "ad73ac0f-8b87-47a5-92a2-119e9bdd32e8"
      },
      "execution_count": 4,
      "outputs": [
        {
          "output_type": "stream",
          "name": "stdout",
          "text": [
            "\n",
            "== BibTeX에서 발견된 key 값들 ==\n",
            "ENTRYTYPE\n",
            "ID\n",
            "abstract\n",
            "address\n",
            "affiliation\n",
            "affiliations\n",
            "article-number\n",
            "author\n",
            "author-email\n",
            "cited-references\n",
            "da\n",
            "doc-delivery-number\n",
            "doi\n",
            "earlyaccessdate\n",
            "eissn\n",
            "funding-acknowledgement\n",
            "funding-text\n",
            "issn\n",
            "journal\n",
            "journal-iso\n",
            "keywords\n",
            "keywords-plus\n",
            "language\n",
            "month\n",
            "note\n",
            "number\n",
            "number-of-cited-references\n",
            "oa\n",
            "orcid-numbers\n",
            "organization\n",
            "pages\n",
            "publisher\n",
            "research-areas\n",
            "researcherid-numbers\n",
            "times-cited\n",
            "title\n",
            "type\n",
            "unique-id\n",
            "usage-count-last-180-days\n",
            "usage-count-since-2013\n",
            "volume\n",
            "web-of-science-categories\n",
            "web-of-science-index\n",
            "year\n"
          ]
        }
      ]
    },
    {
      "cell_type": "code",
      "source": [
        "# 모든 type 값을 저장할 집합\n",
        "type_values = set()\n",
        "\n",
        "# 업로드된 파일 처리\n",
        "for file_name in uploaded.keys():\n",
        "    with open(file_name, 'r', encoding='utf-8') as f:\n",
        "        bib_database = bibtexparser.load(f)\n",
        "\n",
        "    # 각 엔트리의 type 값 추출\n",
        "    for entry in bib_database.entries:\n",
        "        if 'type' in entry:  # type 키가 있는지 확인\n",
        "            type_values.add(entry['type'])\n",
        "\n",
        "# 모든 type 값 출력\n",
        "print(\"\\n== BibTeX에서 발견된 type 값들 ==\")\n",
        "for value in sorted(type_values):  # 정렬된 type 값 출력\n",
        "    print(value)"
      ],
      "metadata": {
        "colab": {
          "base_uri": "https://localhost:8080/"
        },
        "id": "-g_4AqUFlVd8",
        "outputId": "b0b31771-d75f-4567-8399-9136bb2023a5"
      },
      "execution_count": 5,
      "outputs": [
        {
          "output_type": "stream",
          "name": "stdout",
          "text": [
            "\n",
            "== BibTeX에서 발견된 type 값들 ==\n",
            "Article\n",
            "Article; Early Access\n",
            "Article; Proceedings Paper\n"
          ]
        }
      ]
    },
    {
      "cell_type": "code",
      "source": [
        "# 데이터 처리\n",
        "for file_name in uploaded.keys():\n",
        "    with open(file_name, 'r', encoding='utf-8') as f:\n",
        "        bib_database = bibtexparser.load(f)\n",
        "\n",
        "    # 원래 entry 개수\n",
        "    original_count = len(bib_database.entries)\n",
        "\n",
        "    # \"Article\"만 남기고 필터링\n",
        "    filtered_entries = [entry for entry in bib_database.entries if entry.get('type') == \"Article\"]\n",
        "\n",
        "    # 필터링 후 entry 개수\n",
        "    filtered_count = len(filtered_entries)\n",
        "\n",
        "    # 필터링된 데이터 업데이트\n",
        "    bib_database.entries = filtered_entries\n",
        "\n",
        "    # 결과 출력\n",
        "    print(f\"원래 entry 개수: {original_count}\")\n",
        "    print(f\"삭제 후 남은 entry 개수: {filtered_count}\")\n",
        "\n",
        "    # 필요시 필터링된 데이터 저장\n",
        "    output_file = \"filtered_bibtex.bib\"\n",
        "    with open(output_file, 'w', encoding='utf-8') as f:\n",
        "        bibtexparser.dump(bib_database, f)\n",
        "    print(f\"필터링된 BibTeX 파일이 '{output_file}'로 저장되었습니다.\")\n"
      ],
      "metadata": {
        "colab": {
          "base_uri": "https://localhost:8080/"
        },
        "id": "7-jYQGcvmJjQ",
        "outputId": "e998bcc3-5053-4ba4-a543-0c6e77e02cf2"
      },
      "execution_count": 6,
      "outputs": [
        {
          "output_type": "stream",
          "name": "stdout",
          "text": [
            "원래 entry 개수: 500\n",
            "삭제 후 남은 entry 개수: 449\n",
            "필터링된 BibTeX 파일이 'filtered_bibtex.bib'로 저장되었습니다.\n"
          ]
        }
      ]
    },
    {
      "cell_type": "code",
      "source": [
        "from google.colab import files\n",
        "\n",
        "# .bib 파일을 .txt 파일로 변환\n",
        "input_file = \"filtered_bibtex.bib\"\n",
        "output_file = \"filtered_bibtex.txt\"\n",
        "\n",
        "# 파일 읽기\n",
        "with open(input_file, 'r', encoding='utf-8') as f:\n",
        "    content = f.read()\n",
        "\n",
        "# 파일 쓰기\n",
        "with open(output_file, 'w', encoding='utf-8') as f:\n",
        "    f.write(content)\n",
        "\n",
        "print(f\"'{input_file}' 파일이 '{output_file}'로 변환되었습니다.\")\n",
        "\n",
        "# 파일 다운로드\n",
        "files.download(output_file)\n"
      ],
      "metadata": {
        "colab": {
          "base_uri": "https://localhost:8080/",
          "height": 35
        },
        "id": "rLVr78PImzJ-",
        "outputId": "25a809f2-d4f1-460e-8067-3655d4fe8ddd"
      },
      "execution_count": 7,
      "outputs": [
        {
          "output_type": "stream",
          "name": "stdout",
          "text": [
            "'filtered_bibtex.bib' 파일이 'filtered_bibtex.txt'로 변환되었습니다.\n"
          ]
        },
        {
          "output_type": "display_data",
          "data": {
            "text/plain": [
              "<IPython.core.display.Javascript object>"
            ],
            "application/javascript": [
              "\n",
              "    async function download(id, filename, size) {\n",
              "      if (!google.colab.kernel.accessAllowed) {\n",
              "        return;\n",
              "      }\n",
              "      const div = document.createElement('div');\n",
              "      const label = document.createElement('label');\n",
              "      label.textContent = `Downloading \"${filename}\": `;\n",
              "      div.appendChild(label);\n",
              "      const progress = document.createElement('progress');\n",
              "      progress.max = size;\n",
              "      div.appendChild(progress);\n",
              "      document.body.appendChild(div);\n",
              "\n",
              "      const buffers = [];\n",
              "      let downloaded = 0;\n",
              "\n",
              "      const channel = await google.colab.kernel.comms.open(id);\n",
              "      // Send a message to notify the kernel that we're ready.\n",
              "      channel.send({})\n",
              "\n",
              "      for await (const message of channel.messages) {\n",
              "        // Send a message to notify the kernel that we're ready.\n",
              "        channel.send({})\n",
              "        if (message.buffers) {\n",
              "          for (const buffer of message.buffers) {\n",
              "            buffers.push(buffer);\n",
              "            downloaded += buffer.byteLength;\n",
              "            progress.value = downloaded;\n",
              "          }\n",
              "        }\n",
              "      }\n",
              "      const blob = new Blob(buffers, {type: 'application/binary'});\n",
              "      const a = document.createElement('a');\n",
              "      a.href = window.URL.createObjectURL(blob);\n",
              "      a.download = filename;\n",
              "      div.appendChild(a);\n",
              "      a.click();\n",
              "      div.remove();\n",
              "    }\n",
              "  "
            ]
          },
          "metadata": {}
        },
        {
          "output_type": "display_data",
          "data": {
            "text/plain": [
              "<IPython.core.display.Javascript object>"
            ],
            "application/javascript": [
              "download(\"download_456acd0b-cb79-49bd-935b-7030957c93ad\", \"filtered_bibtex.txt\", 3472666)"
            ]
          },
          "metadata": {}
        }
      ]
    }
  ]
}