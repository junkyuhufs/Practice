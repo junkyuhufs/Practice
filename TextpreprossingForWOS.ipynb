{
  "nbformat": 4,
  "nbformat_minor": 0,
  "metadata": {
    "colab": {
      "provenance": [],
      "gpuType": "T4",
      "authorship_tag": "ABX9TyOEZXqBeRDM9yM4PqR2Q6BT",
      "include_colab_link": true
    },
    "kernelspec": {
      "name": "python3",
      "display_name": "Python 3"
    },
    "language_info": {
      "name": "python"
    },
    "accelerator": "GPU"
  },
  "cells": [
    {
      "cell_type": "markdown",
      "metadata": {
        "id": "view-in-github",
        "colab_type": "text"
      },
      "source": [
        "<a href=\"https://colab.research.google.com/github/junkyuhufs/Practice/blob/main/TextpreprossingForWOS.ipynb\" target=\"_parent\"><img src=\"https://colab.research.google.com/assets/colab-badge.svg\" alt=\"Open In Colab\"/></a>"
      ]
    },
    {
      "cell_type": "code",
      "source": [
        "from google.colab import files\n",
        "\n",
        "# 파일 업로드\n",
        "uploaded = files.upload()\n",
        "\n",
        "# 데이터 처리\n",
        "for file_name in uploaded.keys():\n",
        "    with open(file_name, 'r', encoding='utf-8') as f:\n",
        "        # 파일 내용 읽기\n",
        "        content = f.read()\n",
        "\n",
        "    # 엔트리 분리 (PT로 시작하고 ER로 끝나는 블록)\n",
        "    entries = content.strip().split('\\nER\\n')\n",
        "    entries = [entry + '\\nER\\n' for entry in entries if entry.strip()]  # 엔트리 끝에 ER 추가\n",
        "\n",
        "    # 원래 엔트리 개수\n",
        "    original_count = len(entries)\n",
        "\n",
        "    # \"DT Article\"만 남기고 필터링\n",
        "    filtered_entries = [entry for entry in entries if \"DT Article\\n\" in entry]\n",
        "\n",
        "    # 필터링 후 엔트리 개수\n",
        "    filtered_count = len(filtered_entries)\n",
        "\n",
        "    # 결과 출력\n",
        "    print(f\"원래 엔트리 개수: {original_count}\")\n",
        "    print(f\"삭제 후 남은 엔트리 개수: {filtered_count}\")\n",
        "\n",
        "    # 필터링된 데이터 저장\n",
        "    output_file = \"filtered_entries.txt\"\n",
        "    with open(output_file, 'w', encoding='utf-8') as f:\n",
        "        f.write('\\n'.join(filtered_entries))\n",
        "    print(f\"필터링된 데이터가 '{output_file}'로 저장되었습니다.\")\n",
        "\n",
        "# 필터링된 파일 다운로드\n",
        "from google.colab import files\n",
        "files.download(output_file)\n"
      ],
      "metadata": {
        "id": "FnnG60XSpouX"
      },
      "execution_count": null,
      "outputs": []
    }
  ]
}