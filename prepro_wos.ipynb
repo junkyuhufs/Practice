{
  "nbformat": 4,
  "nbformat_minor": 0,
  "metadata": {
    "colab": {
      "provenance": [],
      "gpuType": "T4",
      "authorship_tag": "ABX9TyOslYqGTu3qZzlBBTVxKwrT",
      "include_colab_link": true
    },
    "kernelspec": {
      "name": "python3",
      "display_name": "Python 3"
    },
    "language_info": {
      "name": "python"
    },
    "accelerator": "GPU"
  },
  "cells": [
    {
      "cell_type": "markdown",
      "metadata": {
        "id": "view-in-github",
        "colab_type": "text"
      },
      "source": [
        "<a href=\"https://colab.research.google.com/github/junkyuhufs/Practice/blob/main/prepro_wos.ipynb\" target=\"_parent\"><img src=\"https://colab.research.google.com/assets/colab-badge.svg\" alt=\"Open In Colab\"/></a>"
      ]
    },
    {
      "cell_type": "markdown",
      "source": [
        "##wos에서 article만 선택 (12-10-2024)"
      ],
      "metadata": {
        "id": "BQ2SLGkn6NaE"
      }
    },
    {
      "cell_type": "code",
      "execution_count": null,
      "metadata": {
        "id": "YLH4dKdBzvjM"
      },
      "outputs": [],
      "source": [
        "# 코랩에서 파일 업로드\n",
        "from google.colab import files\n",
        "\n",
        "uploaded = files.upload()  # 파일을 업로드하세요 (예: test2.txt)\n",
        "\n",
        "# 파일 이름 가져오기\n",
        "file_name = list(uploaded.keys())[0]\n",
        "\n",
        "# Define a function to filter entries by DT\n",
        "def filter_entries_by_dt(file_path, dt_filter):\n",
        "    filtered_entries = []\n",
        "    with open(file_path, 'r', encoding='utf-8') as file:\n",
        "        current_entry = []\n",
        "        include_entry = False\n",
        "        for line in file:\n",
        "            if line.strip() == \"ER\":  # End of record\n",
        "                if include_entry:\n",
        "                    filtered_entries.append(''.join(current_entry))\n",
        "                current_entry = []\n",
        "                include_entry = False\n",
        "            current_entry.append(line)\n",
        "            if line.startswith(\"DT \"):\n",
        "                include_entry = dt_filter in line\n",
        "    return filtered_entries\n",
        "\n",
        "# Filter for entries where DT == \"Article\"\n",
        "filtered_entries = filter_entries_by_dt(file_name, \"Article\")\n",
        "\n",
        "# Save the filtered entries to a new file\n",
        "filtered_file_name = 'filtered_articles.txt'\n",
        "with open(filtered_file_name, 'w', encoding='utf-8') as file:\n",
        "    file.writelines(filtered_entries)\n",
        "\n",
        "# 다운로드 링크 제공\n",
        "files.download(filtered_file_name)\n"
      ]
    },
    {
      "cell_type": "markdown",
      "source": [
        "##wos에서 무명저자 삭제"
      ],
      "metadata": {
        "id": "hENMh7t-6U1v"
      }
    },
    {
      "cell_type": "code",
      "source": [
        "# 코랩에서 파일 업로드\n",
        "from google.colab import files\n",
        "\n",
        "# 파일 업로드\n",
        "uploaded = files.upload()\n",
        "\n",
        "# 업로드된 파일 이름 가져오기\n",
        "input_file_name = list(uploaded.keys())[0]\n",
        "output_file_name = 'cleaned_articles.txt'\n",
        "\n",
        "# CR 섹션을 청소하는 함수 정의\n",
        "def clean_cr_entries(input_file_name, output_file_name):\n",
        "    cleaned_entries = []\n",
        "    with open(input_file_name, 'r', encoding='utf-8') as file:\n",
        "        current_entry = []\n",
        "        for line in file:\n",
        "            if line.strip() == \"ER\":  # End of record\n",
        "                # Process the CR section of the current entry\n",
        "                cleaned_entry = []\n",
        "                inside_cr = False\n",
        "                cr_lines = []\n",
        "                for entry_line in current_entry:\n",
        "                    if entry_line.startswith(\"CR \"):  # Start of CR section\n",
        "                        inside_cr = True\n",
        "                        cr_lines = [entry_line[3:].strip()]\n",
        "                    elif inside_cr and entry_line.startswith(\"   \"):  # Continuation of CR\n",
        "                        cr_lines.append(entry_line.strip())\n",
        "                    elif inside_cr:  # End of CR section\n",
        "                        # Filter out 'Anonymous' references and reconstruct the CR section\n",
        "                        cleaned_cr_lines = [\n",
        "                            line for line in cr_lines if \"Anonymous\" not in line\n",
        "                        ]\n",
        "                        if cleaned_cr_lines:\n",
        "                            cleaned_entry.append(\"CR \" + cleaned_cr_lines[0] + \"\\n\")\n",
        "                            cleaned_entry.extend(\n",
        "                                [\"   \" + line + \"\\n\" for line in cleaned_cr_lines[1:]]\n",
        "                            )\n",
        "                        inside_cr = False\n",
        "                        cleaned_entry.append(entry_line)\n",
        "                    else:\n",
        "                        cleaned_entry.append(entry_line)\n",
        "                if inside_cr:  # Handle CR section at the end of an entry\n",
        "                    cleaned_cr_lines = [\n",
        "                        line for line in cr_lines if \"Anonymous\" not in line\n",
        "                    ]\n",
        "                    if cleaned_cr_lines:\n",
        "                        cleaned_entry.append(\"CR \" + cleaned_cr_lines[0] + \"\\n\")\n",
        "                        cleaned_entry.extend(\n",
        "                            [\"   \" + line + \"\\n\" for line in cleaned_cr_lines[1:]]\n",
        "                        )\n",
        "                cleaned_entries.append(\"\".join(cleaned_entry))\n",
        "                current_entry = []\n",
        "            else:\n",
        "                current_entry.append(line)\n",
        "    # Write the cleaned entries to the output file\n",
        "    with open(output_file_name, 'w', encoding='utf-8') as file:\n",
        "        file.writelines(cleaned_entries)\n",
        "\n",
        "# 파일을 처리하여 결과 생성\n",
        "clean_cr_entries(input_file_name, output_file_name)\n",
        "\n",
        "# 결과 파일 다운로드\n",
        "files.download(output_file_name)\n"
      ],
      "metadata": {
        "id": "FmeYsZxq6GTw"
      },
      "execution_count": null,
      "outputs": []
    }
  ]
}