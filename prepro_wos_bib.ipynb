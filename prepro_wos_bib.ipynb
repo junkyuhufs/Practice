{
  "nbformat": 4,
  "nbformat_minor": 0,
  "metadata": {
    "colab": {
      "provenance": [],
      "authorship_tag": "ABX9TyO58traXCCH6Wzo6w8R4LZF",
      "include_colab_link": true
    },
    "kernelspec": {
      "name": "python3",
      "display_name": "Python 3"
    },
    "language_info": {
      "name": "python"
    }
  },
  "cells": [
    {
      "cell_type": "markdown",
      "metadata": {
        "id": "view-in-github",
        "colab_type": "text"
      },
      "source": [
        "<a href=\"https://colab.research.google.com/github/junkyuhufs/Practice/blob/main/prepro_wos_bib.ipynb\" target=\"_parent\"><img src=\"https://colab.research.google.com/assets/colab-badge.svg\" alt=\"Open In Colab\"/></a>"
      ]
    },
    {
      "cell_type": "markdown",
      "source": [
        "##wos의 bib file중 article만 선택 (12-11-2024)"
      ],
      "metadata": {
        "id": "qQ_w8NIj8iSd"
      }
    },
    {
      "cell_type": "code",
      "execution_count": null,
      "metadata": {
        "id": "nC-_3rY78CKP"
      },
      "outputs": [],
      "source": [
        "# 코랩에서 파일 업로드\n",
        "from google.colab import files\n",
        "\n",
        "# 파일 업로드\n",
        "uploaded = files.upload()\n",
        "\n",
        "# 업로드된 파일 이름 가져오기\n",
        "input_file_name = list(uploaded.keys())[0]\n",
        "output_file_name = 'filtered_articles.bib'\n",
        "\n",
        "# `@article` 항목 필터링 함수\n",
        "def filter_bib_entries_by_type(input_file, output_file, entry_type=\"article\"):\n",
        "    with open(input_file, 'r', encoding='utf-8') as file:\n",
        "        entries = []\n",
        "        current_entry = []\n",
        "        include_entry = False\n",
        "        for line in file:\n",
        "            if line.strip() == \"}\":  # End of a BibTeX entry\n",
        "                current_entry.append(line)\n",
        "                if include_entry:\n",
        "                    entries.append(\"\".join(current_entry))\n",
        "                current_entry = []\n",
        "                include_entry = False\n",
        "            else:\n",
        "                current_entry.append(line)\n",
        "                # Check if the entry type matches (e.g., \"@article{\")\n",
        "                if line.strip().lower().startswith(f\"@{entry_type.lower()}\"):\n",
        "                    include_entry = True\n",
        "\n",
        "    with open(output_file, 'w', encoding='utf-8') as file:\n",
        "        file.writelines(entries)\n",
        "\n",
        "# 필터링 실행\n",
        "filter_bib_entries_by_type(input_file_name, output_file_name)\n",
        "\n",
        "# 결과 파일 다운로드\n",
        "files.download(output_file_name)\n"
      ]
    },
    {
      "cell_type": "markdown",
      "source": [
        "##wos의 bib file중 참고문헌 중 무명저자 삭제"
      ],
      "metadata": {
        "id": "AJAIaP5U8vKg"
      }
    },
    {
      "cell_type": "code",
      "source": [
        "# 코랩에서 파일 업로드\n",
        "from google.colab import files\n",
        "\n",
        "# 파일 업로드\n",
        "uploaded = files.upload()\n",
        "\n",
        "# 업로드된 파일 이름 가져오기\n",
        "input_file_name = list(uploaded.keys())[0]\n",
        "output_file_name = 'cleaned_cr_entries.bib'\n",
        "\n",
        "# CR 섹션을 청소하는 함수 정의\n",
        "def clean_cr_references(input_file, output_file, key=\"CR\", exclude_value=\"Anonymous\"):\n",
        "    cleaned_entries = []\n",
        "    with open(input_file, 'r', encoding='utf-8') as file:\n",
        "        current_entry = []\n",
        "        inside_cr = False\n",
        "        cr_lines = []\n",
        "\n",
        "        for line in file:\n",
        "            if line.strip() == \"}\":  # End of a BibTeX entry\n",
        "                if inside_cr:\n",
        "                    # Filter and reconstruct the CR section\n",
        "                    filtered_cr_lines = [\n",
        "                        cr_line for cr_line in cr_lines if exclude_value not in cr_line\n",
        "                    ]\n",
        "                    if filtered_cr_lines:\n",
        "                        cleaned_entries.append(f\"{key} = {{{'; '.join(filtered_cr_lines)}}},\\n\")\n",
        "                cleaned_entries.append(\"\".join(current_entry))\n",
        "                current_entry = []\n",
        "                inside_cr = False\n",
        "                cr_lines = []\n",
        "            else:\n",
        "                if f\"{key} =\" in line:  # Detect CR section\n",
        "                    inside_cr = True\n",
        "                    cr_lines = [line.split(\"=\", 1)[1].strip().strip(\"{}\").split(\"; \")]\n",
        "                elif inside_cr and line.strip().endswith(\",\"):  # Continuation of CR section\n",
        "                    cr_lines.append(line.strip().strip(\",\").strip())\n",
        "                else:\n",
        "                    if inside_cr:\n",
        "                        # End CR section if a non-continuation line is encountered\n",
        "                        filtered_cr_lines = [\n",
        "                            cr_line for cr_line in cr_lines if exclude_value not in cr_line\n",
        "                        ]\n",
        "                        if filtered_cr_lines:\n",
        "                            cleaned_entries.append(f\"{key} = {{{'; '.join(filtered_cr_lines)}}},\\n\")\n",
        "                        inside_cr = False\n",
        "                        cr_lines = []\n",
        "                    cleaned_entries.append(line)\n",
        "\n",
        "    # Write cleaned entries to the output file\n",
        "    with open(output_file, 'w', encoding='utf-8') as file:\n",
        "        file.writelines(cleaned_entries)\n",
        "\n",
        "# 함수 실행하여 파일 정리\n",
        "clean_cr_references(input_file_name, output_file_name)\n",
        "\n",
        "# 결과 파일 다운로드\n",
        "files.download(output_file_name)\n"
      ],
      "metadata": {
        "id": "_M4vCRpx8Dkc"
      },
      "execution_count": null,
      "outputs": []
    }
  ]
}